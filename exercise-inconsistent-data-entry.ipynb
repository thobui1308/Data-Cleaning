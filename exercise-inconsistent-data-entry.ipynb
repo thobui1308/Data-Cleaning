{
 "cells": [
  {
   "cell_type": "markdown",
   "id": "2db0ed9e",
   "metadata": {
    "papermill": {
     "duration": 0.008055,
     "end_time": "2024-01-25T10:18:45.557765",
     "exception": false,
     "start_time": "2024-01-25T10:18:45.549710",
     "status": "completed"
    },
    "tags": []
   },
   "source": [
    "**This notebook is an exercise in the [Data Cleaning](https://www.kaggle.com/learn/data-cleaning) course.  You can reference the tutorial at [this link](https://www.kaggle.com/alexisbcook/inconsistent-data-entry).**\n",
    "\n",
    "---\n"
   ]
  },
  {
   "cell_type": "markdown",
   "id": "54da9067",
   "metadata": {
    "papermill": {
     "duration": 0.007809,
     "end_time": "2024-01-25T10:18:45.573932",
     "exception": false,
     "start_time": "2024-01-25T10:18:45.566123",
     "status": "completed"
    },
    "tags": []
   },
   "source": [
    "In this exercise, you'll apply what you learned in the **Inconsistent data entry** tutorial.\n",
    "\n",
    "# Setup\n",
    "\n",
    "The questions below will give you feedback on your work. Run the following cell to set up the feedback system."
   ]
  },
  {
   "cell_type": "code",
   "execution_count": 1,
   "id": "e00a55d1",
   "metadata": {
    "execution": {
     "iopub.execute_input": "2024-01-25T10:18:45.594094Z",
     "iopub.status.busy": "2024-01-25T10:18:45.593521Z",
     "iopub.status.idle": "2024-01-25T10:18:46.459243Z",
     "shell.execute_reply": "2024-01-25T10:18:46.457715Z"
    },
    "papermill": {
     "duration": 0.880447,
     "end_time": "2024-01-25T10:18:46.463377",
     "exception": false,
     "start_time": "2024-01-25T10:18:45.582930",
     "status": "completed"
    },
    "tags": []
   },
   "outputs": [
    {
     "name": "stdout",
     "output_type": "stream",
     "text": [
      "Setup Complete\n"
     ]
    }
   ],
   "source": [
    "from learntools.core import binder\n",
    "binder.bind(globals())\n",
    "from learntools.data_cleaning.ex5 import *\n",
    "\n",
    "print(\"Setup Complete\")"
   ]
  },
  {
   "cell_type": "markdown",
   "id": "85bfe337",
   "metadata": {
    "papermill": {
     "duration": 0.006855,
     "end_time": "2024-01-25T10:18:46.477879",
     "exception": false,
     "start_time": "2024-01-25T10:18:46.471024",
     "status": "completed"
    },
    "tags": []
   },
   "source": [
    "# Get our environment set up\n",
    "\n",
    "The first thing we'll need to do is load in the libraries and dataset we'll be using.  We use the same dataset from the tutorial."
   ]
  },
  {
   "cell_type": "code",
   "execution_count": 2,
   "id": "bb73ebc0",
   "metadata": {
    "execution": {
     "iopub.execute_input": "2024-01-25T10:18:46.494842Z",
     "iopub.status.busy": "2024-01-25T10:18:46.494422Z",
     "iopub.status.idle": "2024-01-25T10:18:46.525532Z",
     "shell.execute_reply": "2024-01-25T10:18:46.523885Z"
    },
    "papermill": {
     "duration": 0.044322,
     "end_time": "2024-01-25T10:18:46.529683",
     "exception": false,
     "start_time": "2024-01-25T10:18:46.485361",
     "status": "completed"
    },
    "tags": []
   },
   "outputs": [],
   "source": [
    "# modules we'll use\n",
    "import pandas as pd\n",
    "import numpy as np\n",
    "\n",
    "# helpful modules\n",
    "import fuzzywuzzy\n",
    "from fuzzywuzzy import process\n",
    "import charset_normalizer\n",
    "\n",
    "# read in all our data\n",
    "professors = pd.read_csv(\"../input/pakistan-intellectual-capital/pakistan_intellectual_capital.csv\")\n",
    "\n",
    "# set seed for reproducibility\n",
    "np.random.seed(0)"
   ]
  },
  {
   "cell_type": "markdown",
   "id": "6edc44bc",
   "metadata": {
    "papermill": {
     "duration": 0.008597,
     "end_time": "2024-01-25T10:18:46.546202",
     "exception": false,
     "start_time": "2024-01-25T10:18:46.537605",
     "status": "completed"
    },
    "tags": []
   },
   "source": [
    "Next, we'll redo all of the work that we did in the tutorial."
   ]
  },
  {
   "cell_type": "code",
   "execution_count": 3,
   "id": "c05730b7",
   "metadata": {
    "execution": {
     "iopub.execute_input": "2024-01-25T10:18:46.565006Z",
     "iopub.status.busy": "2024-01-25T10:18:46.564557Z",
     "iopub.status.idle": "2024-01-25T10:18:46.585423Z",
     "shell.execute_reply": "2024-01-25T10:18:46.583623Z"
    },
    "papermill": {
     "duration": 0.034968,
     "end_time": "2024-01-25T10:18:46.588570",
     "exception": false,
     "start_time": "2024-01-25T10:18:46.553602",
     "status": "completed"
    },
    "tags": []
   },
   "outputs": [
    {
     "name": "stdout",
     "output_type": "stream",
     "text": [
      "All done!\n"
     ]
    }
   ],
   "source": [
    "# convert to lower case\n",
    "professors['Country'] = professors['Country'].str.lower()\n",
    "# remove trailing white spaces\n",
    "professors['Country'] = professors['Country'].str.strip()\n",
    "\n",
    "# get the top 10 closest matches to \"south korea\"\n",
    "countries = professors['Country'].unique()\n",
    "matches = fuzzywuzzy.process.extract(\"south korea\", countries, limit=10, scorer=fuzzywuzzy.fuzz.token_sort_ratio)\n",
    "\n",
    "def replace_matches_in_column(df, column, string_to_match, min_ratio = 47):\n",
    "    # get a list of unique strings\n",
    "    strings = df[column].unique()\n",
    "    \n",
    "    # get the top 10 closest matches to our input string\n",
    "    matches = fuzzywuzzy.process.extract(string_to_match, strings, \n",
    "                                         limit=10, scorer=fuzzywuzzy.fuzz.token_sort_ratio)\n",
    "\n",
    "    # only get matches with a ratio > 90\n",
    "    close_matches = [matches[0] for matches in matches if matches[1] >= min_ratio]\n",
    "\n",
    "    # get the rows of all the close matches in our dataframe\n",
    "    rows_with_matches = df[column].isin(close_matches)\n",
    "\n",
    "    # replace all rows with close matches with the input matches \n",
    "    df.loc[rows_with_matches, column] = string_to_match\n",
    "    \n",
    "    # let us know the function's done\n",
    "    print(\"All done!\")\n",
    "    \n",
    "replace_matches_in_column(df=professors, column='Country', string_to_match=\"south korea\")\n",
    "countries = professors['Country'].unique()"
   ]
  },
  {
   "cell_type": "markdown",
   "id": "66a911b4",
   "metadata": {
    "papermill": {
     "duration": 0.008009,
     "end_time": "2024-01-25T10:18:46.604413",
     "exception": false,
     "start_time": "2024-01-25T10:18:46.596404",
     "status": "completed"
    },
    "tags": []
   },
   "source": [
    "# 1) Examine another column\n",
    "\n",
    "Write code below to take a look at all the unique values in the \"Graduated from\" column."
   ]
  },
  {
   "cell_type": "code",
   "execution_count": 4,
   "id": "6393c4d6",
   "metadata": {
    "execution": {
     "iopub.execute_input": "2024-01-25T10:18:46.625130Z",
     "iopub.status.busy": "2024-01-25T10:18:46.624685Z",
     "iopub.status.idle": "2024-01-25T10:18:46.631339Z",
     "shell.execute_reply": "2024-01-25T10:18:46.629358Z"
    },
    "papermill": {
     "duration": 0.023547,
     "end_time": "2024-01-25T10:18:46.635464",
     "exception": false,
     "start_time": "2024-01-25T10:18:46.611917",
     "status": "completed"
    },
    "tags": []
   },
   "outputs": [],
   "source": [
    "# TODO: Your code here\n",
    "Graduated_from = professors['Graduated from'].unique()"
   ]
  },
  {
   "cell_type": "markdown",
   "id": "e353efa4",
   "metadata": {
    "papermill": {
     "duration": 0.007668,
     "end_time": "2024-01-25T10:18:46.652465",
     "exception": false,
     "start_time": "2024-01-25T10:18:46.644797",
     "status": "completed"
    },
    "tags": []
   },
   "source": [
    "Do you notice any inconsistencies in the data?  Can any of the inconsistencies in the data be fixed by removing white spaces at the beginning and end of cells?\n",
    "\n",
    "Once you have answered these questions, run the code cell below to get credit for your work."
   ]
  },
  {
   "cell_type": "code",
   "execution_count": 5,
   "id": "16fe7181",
   "metadata": {
    "execution": {
     "iopub.execute_input": "2024-01-25T10:18:46.673891Z",
     "iopub.status.busy": "2024-01-25T10:18:46.673337Z",
     "iopub.status.idle": "2024-01-25T10:18:46.688997Z",
     "shell.execute_reply": "2024-01-25T10:18:46.686926Z"
    },
    "papermill": {
     "duration": 0.029723,
     "end_time": "2024-01-25T10:18:46.692379",
     "exception": false,
     "start_time": "2024-01-25T10:18:46.662656",
     "status": "completed"
    },
    "tags": []
   },
   "outputs": [
    {
     "data": {
      "application/javascript": [
       "parent.postMessage({\"jupyterEvent\": \"custom.exercise_interaction\", \"data\": {\"outcomeType\": 1, \"valueTowardsCompletion\": 0.3333333333333333, \"interactionType\": 1, \"questionType\": 4, \"questionId\": \"1_ExamineProvince\", \"learnToolsVersion\": \"0.3.4\", \"failureMessage\": \"\", \"exceptionClass\": \"\", \"trace\": \"\"}}, \"*\")"
      ],
      "text/plain": [
       "<IPython.core.display.Javascript object>"
      ]
     },
     "metadata": {},
     "output_type": "display_data"
    },
    {
     "data": {
      "text/markdown": [
       "<span style=\"color:#33cc33\">Correct:</span> \n",
       "\n",
       "There are inconsistencies that can be fixed by removing white spaces at the beginning and end of cells.  For instance, \"University of Central Florida\" and \" University of Central Florida\" both appear in the column."
      ],
      "text/plain": [
       "Correct: \n",
       "\n",
       "There are inconsistencies that can be fixed by removing white spaces at the beginning and end of cells.  For instance, \"University of Central Florida\" and \" University of Central Florida\" both appear in the column."
      ]
     },
     "metadata": {},
     "output_type": "display_data"
    }
   ],
   "source": [
    "# Check your answer (Run this code cell to receive credit!)\n",
    "q1.check()"
   ]
  },
  {
   "cell_type": "code",
   "execution_count": 6,
   "id": "860fbe17",
   "metadata": {
    "execution": {
     "iopub.execute_input": "2024-01-25T10:18:46.713527Z",
     "iopub.status.busy": "2024-01-25T10:18:46.713045Z",
     "iopub.status.idle": "2024-01-25T10:18:46.719186Z",
     "shell.execute_reply": "2024-01-25T10:18:46.717199Z"
    },
    "papermill": {
     "duration": 0.021018,
     "end_time": "2024-01-25T10:18:46.722391",
     "exception": false,
     "start_time": "2024-01-25T10:18:46.701373",
     "status": "completed"
    },
    "tags": []
   },
   "outputs": [],
   "source": [
    "# Line below will give you a hint\n",
    "#q1.hint()"
   ]
  },
  {
   "cell_type": "markdown",
   "id": "79a59d33",
   "metadata": {
    "papermill": {
     "duration": 0.00782,
     "end_time": "2024-01-25T10:18:46.739541",
     "exception": false,
     "start_time": "2024-01-25T10:18:46.731721",
     "status": "completed"
    },
    "tags": []
   },
   "source": [
    "# 2) Do some text pre-processing\n",
    "\n",
    "Convert every entry in the \"Graduated from\" column in the `professors` DataFrame to remove white spaces at the beginning and end of cells."
   ]
  },
  {
   "cell_type": "code",
   "execution_count": 7,
   "id": "776672b8",
   "metadata": {
    "execution": {
     "iopub.execute_input": "2024-01-25T10:18:46.759093Z",
     "iopub.status.busy": "2024-01-25T10:18:46.758688Z",
     "iopub.status.idle": "2024-01-25T10:18:46.777738Z",
     "shell.execute_reply": "2024-01-25T10:18:46.776017Z"
    },
    "papermill": {
     "duration": 0.03701,
     "end_time": "2024-01-25T10:18:46.784691",
     "exception": false,
     "start_time": "2024-01-25T10:18:46.747681",
     "status": "completed"
    },
    "tags": []
   },
   "outputs": [
    {
     "data": {
      "application/javascript": [
       "parent.postMessage({\"jupyterEvent\": \"custom.exercise_interaction\", \"data\": {\"outcomeType\": 1, \"valueTowardsCompletion\": 0.3333333333333333, \"interactionType\": 1, \"questionType\": 1, \"questionId\": \"2_TextProcessing\", \"learnToolsVersion\": \"0.3.4\", \"failureMessage\": \"\", \"exceptionClass\": \"\", \"trace\": \"\"}}, \"*\")"
      ],
      "text/plain": [
       "<IPython.core.display.Javascript object>"
      ]
     },
     "metadata": {},
     "output_type": "display_data"
    },
    {
     "data": {
      "text/markdown": [
       "<span style=\"color:#33cc33\">Correct</span>"
      ],
      "text/plain": [
       "Correct"
      ]
     },
     "metadata": {},
     "output_type": "display_data"
    }
   ],
   "source": [
    "# TODO: Your code here\n",
    "professors['Graduated from'] = professors['Graduated from'].str.strip()\n",
    "# Check your answer\n",
    "q2.check()"
   ]
  },
  {
   "cell_type": "code",
   "execution_count": 8,
   "id": "a44a9d46",
   "metadata": {
    "execution": {
     "iopub.execute_input": "2024-01-25T10:18:46.806208Z",
     "iopub.status.busy": "2024-01-25T10:18:46.805782Z",
     "iopub.status.idle": "2024-01-25T10:18:46.812085Z",
     "shell.execute_reply": "2024-01-25T10:18:46.810696Z"
    },
    "papermill": {
     "duration": 0.02106,
     "end_time": "2024-01-25T10:18:46.815786",
     "exception": false,
     "start_time": "2024-01-25T10:18:46.794726",
     "status": "completed"
    },
    "tags": []
   },
   "outputs": [],
   "source": [
    "# Lines below will give you a hint or solution code\n",
    "#q2.hint()\n",
    "#q2.solution()"
   ]
  },
  {
   "cell_type": "markdown",
   "id": "e0fec70c",
   "metadata": {
    "papermill": {
     "duration": 0.008949,
     "end_time": "2024-01-25T10:18:46.835989",
     "exception": false,
     "start_time": "2024-01-25T10:18:46.827040",
     "status": "completed"
    },
    "tags": []
   },
   "source": [
    "# 3) Continue working with countries\n",
    "\n",
    "In the tutorial, we focused on cleaning up inconsistencies in the \"Country\" column.  Run the code cell below to view the list of unique values that we ended with."
   ]
  },
  {
   "cell_type": "code",
   "execution_count": 9,
   "id": "3ad20b81",
   "metadata": {
    "execution": {
     "iopub.execute_input": "2024-01-25T10:18:46.856891Z",
     "iopub.status.busy": "2024-01-25T10:18:46.856179Z",
     "iopub.status.idle": "2024-01-25T10:18:46.867837Z",
     "shell.execute_reply": "2024-01-25T10:18:46.866301Z"
    },
    "papermill": {
     "duration": 0.025709,
     "end_time": "2024-01-25T10:18:46.871155",
     "exception": false,
     "start_time": "2024-01-25T10:18:46.845446",
     "status": "completed"
    },
    "tags": []
   },
   "outputs": [
    {
     "data": {
      "text/plain": [
       "array(['australia', 'austria', 'canada', 'china', 'finland', 'france',\n",
       "       'germany', 'greece', 'hongkong', 'ireland', 'italy', 'japan',\n",
       "       'macau', 'malaysia', 'mauritius', 'netherland', 'new zealand',\n",
       "       'norway', 'pakistan', 'portugal', 'russian federation',\n",
       "       'saudi arabia', 'scotland', 'singapore', 'south korea', 'spain',\n",
       "       'sweden', 'thailand', 'turkey', 'uk', 'urbana', 'usa', 'usofa'],\n",
       "      dtype=object)"
      ]
     },
     "execution_count": 9,
     "metadata": {},
     "output_type": "execute_result"
    }
   ],
   "source": [
    "# get all the unique values in the 'City' column\n",
    "countries = professors['Country'].unique()\n",
    "\n",
    "# sort them alphabetically and then take a closer look\n",
    "countries.sort()\n",
    "countries"
   ]
  },
  {
   "cell_type": "markdown",
   "id": "908ce76f",
   "metadata": {
    "papermill": {
     "duration": 0.011638,
     "end_time": "2024-01-25T10:18:46.892463",
     "exception": false,
     "start_time": "2024-01-25T10:18:46.880825",
     "status": "completed"
    },
    "tags": []
   },
   "source": [
    "Take another look at the \"Country\" column and see if there's any more data cleaning we need to do.\n",
    "\n",
    "It looks like 'usa' and 'usofa' should be the same country.  Correct the \"Country\" column in the dataframe to replace 'usofa' with 'usa'.\n",
    "\n",
    "**Use the most recent version of the DataFrame (with the whitespaces at the beginning and end of cells removed) from question 2.**"
   ]
  },
  {
   "cell_type": "code",
   "execution_count": 10,
   "id": "6ec63834",
   "metadata": {
    "execution": {
     "iopub.execute_input": "2024-01-25T10:18:46.916003Z",
     "iopub.status.busy": "2024-01-25T10:18:46.914282Z",
     "iopub.status.idle": "2024-01-25T10:18:46.935575Z",
     "shell.execute_reply": "2024-01-25T10:18:46.933197Z"
    },
    "papermill": {
     "duration": 0.03763,
     "end_time": "2024-01-25T10:18:46.938639",
     "exception": false,
     "start_time": "2024-01-25T10:18:46.901009",
     "status": "completed"
    },
    "tags": []
   },
   "outputs": [
    {
     "name": "stdout",
     "output_type": "stream",
     "text": [
      "[('usa', 100), ('usofa', 75), ('austria', 60), ('australia', 50), ('spain', 50), ('urbana', 44), ('uk', 40), ('malaysia', 36), ('pakistan', 36), ('portugal', 36)]\n",
      "All done!\n"
     ]
    },
    {
     "data": {
      "application/javascript": [
       "parent.postMessage({\"jupyterEvent\": \"custom.exercise_interaction\", \"data\": {\"outcomeType\": 1, \"valueTowardsCompletion\": 0.3333333333333333, \"interactionType\": 1, \"questionType\": 1, \"questionId\": \"3_WorkingWithCities\", \"learnToolsVersion\": \"0.3.4\", \"failureMessage\": \"\", \"exceptionClass\": \"\", \"trace\": \"\"}}, \"*\")"
      ],
      "text/plain": [
       "<IPython.core.display.Javascript object>"
      ]
     },
     "metadata": {},
     "output_type": "display_data"
    },
    {
     "data": {
      "text/markdown": [
       "<span style=\"color:#33cc33\">Correct</span>"
      ],
      "text/plain": [
       "Correct"
      ]
     },
     "metadata": {},
     "output_type": "display_data"
    }
   ],
   "source": [
    "# TODO: Your code here!\n",
    "matches = fuzzywuzzy.process.extract(\"usa\", countries, limit=10, scorer=fuzzywuzzy.fuzz.token_sort_ratio)\n",
    "print(matches) ## to choose min_rato \n",
    "\n",
    "replace_matches_in_column(df=professors, column='Country', string_to_match=\"usa\",min_ratio = 75)\n",
    "\n",
    "# Check your answer\n",
    "q3.check()"
   ]
  },
  {
   "cell_type": "code",
   "execution_count": 11,
   "id": "7454203c",
   "metadata": {
    "execution": {
     "iopub.execute_input": "2024-01-25T10:18:46.961678Z",
     "iopub.status.busy": "2024-01-25T10:18:46.960857Z",
     "iopub.status.idle": "2024-01-25T10:18:46.969833Z",
     "shell.execute_reply": "2024-01-25T10:18:46.967710Z"
    },
    "papermill": {
     "duration": 0.023801,
     "end_time": "2024-01-25T10:18:46.973028",
     "exception": false,
     "start_time": "2024-01-25T10:18:46.949227",
     "status": "completed"
    },
    "tags": []
   },
   "outputs": [],
   "source": [
    "# Lines below will give you a hint or solution code\n",
    "#q3.hint()\n",
    "#q3.solution()"
   ]
  },
  {
   "cell_type": "markdown",
   "id": "d885c12e",
   "metadata": {
    "papermill": {
     "duration": 0.010033,
     "end_time": "2024-01-25T10:18:46.993866",
     "exception": false,
     "start_time": "2024-01-25T10:18:46.983833",
     "status": "completed"
    },
    "tags": []
   },
   "source": [
    "# Congratulations!\n",
    "\n",
    "Congratulations for completing the **Data Cleaning** course on Kaggle Learn!\n",
    "\n",
    "To practice your new skills, you're encouraged to download and investigate some of [Kaggle's Datasets](https://www.kaggle.com/datasets)."
   ]
  },
  {
   "cell_type": "markdown",
   "id": "c44311fc",
   "metadata": {
    "papermill": {
     "duration": 0.009734,
     "end_time": "2024-01-25T10:18:47.013740",
     "exception": false,
     "start_time": "2024-01-25T10:18:47.004006",
     "status": "completed"
    },
    "tags": []
   },
   "source": [
    "---\n",
    "\n",
    "\n",
    "\n",
    "\n",
    "*Have questions or comments? Visit the [course discussion forum](https://www.kaggle.com/learn/data-cleaning/discussion) to chat with other learners.*"
   ]
  }
 ],
 "metadata": {
  "kaggle": {
   "accelerator": "none",
   "dataSources": [
    {
     "datasetId": 819513,
     "sourceId": 1402182,
     "sourceType": "datasetVersion"
    }
   ],
   "isGpuEnabled": false,
   "isInternetEnabled": false,
   "language": "python",
   "sourceType": "notebook"
  },
  "kernelspec": {
   "display_name": "Python 3",
   "language": "python",
   "name": "python3"
  },
  "language_info": {
   "codemirror_mode": {
    "name": "ipython",
    "version": 3
   },
   "file_extension": ".py",
   "mimetype": "text/x-python",
   "name": "python",
   "nbconvert_exporter": "python",
   "pygments_lexer": "ipython3",
   "version": "3.10.12"
  },
  "papermill": {
   "default_parameters": {},
   "duration": 6.762667,
   "end_time": "2024-01-25T10:18:47.745011",
   "environment_variables": {},
   "exception": null,
   "input_path": "__notebook__.ipynb",
   "output_path": "__notebook__.ipynb",
   "parameters": {},
   "start_time": "2024-01-25T10:18:40.982344",
   "version": "2.4.0"
  }
 },
 "nbformat": 4,
 "nbformat_minor": 5
}
