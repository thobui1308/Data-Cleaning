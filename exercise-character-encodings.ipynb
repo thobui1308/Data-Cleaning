{
 "cells": [
  {
   "cell_type": "markdown",
   "id": "39b42ec1",
   "metadata": {
    "papermill": {
     "duration": 0.005445,
     "end_time": "2024-01-25T10:17:40.427730",
     "exception": false,
     "start_time": "2024-01-25T10:17:40.422285",
     "status": "completed"
    },
    "tags": []
   },
   "source": [
    "**This notebook is an exercise in the [Data Cleaning](https://www.kaggle.com/learn/data-cleaning) course.  You can reference the tutorial at [this link](https://www.kaggle.com/alexisbcook/character-encodings).**\n",
    "\n",
    "---\n"
   ]
  },
  {
   "cell_type": "markdown",
   "id": "cfeac00c",
   "metadata": {
    "papermill": {
     "duration": 0.004496,
     "end_time": "2024-01-25T10:17:40.437416",
     "exception": false,
     "start_time": "2024-01-25T10:17:40.432920",
     "status": "completed"
    },
    "tags": []
   },
   "source": [
    "In this exercise, you'll apply what you learned in the **Character encodings** tutorial.\n",
    "\n",
    "# Setup\n",
    "\n",
    "The questions below will give you feedback on your work. Run the following cell to set up the feedback system."
   ]
  },
  {
   "cell_type": "code",
   "execution_count": 1,
   "id": "b4d5fac3",
   "metadata": {
    "execution": {
     "iopub.execute_input": "2024-01-25T10:17:40.449425Z",
     "iopub.status.busy": "2024-01-25T10:17:40.448874Z",
     "iopub.status.idle": "2024-01-25T10:17:40.996651Z",
     "shell.execute_reply": "2024-01-25T10:17:40.995262Z"
    },
    "papermill": {
     "duration": 0.557043,
     "end_time": "2024-01-25T10:17:40.999302",
     "exception": false,
     "start_time": "2024-01-25T10:17:40.442259",
     "status": "completed"
    },
    "tags": []
   },
   "outputs": [
    {
     "name": "stdout",
     "output_type": "stream",
     "text": [
      "Setup Complete\n"
     ]
    }
   ],
   "source": [
    "from learntools.core import binder\n",
    "binder.bind(globals())\n",
    "from learntools.data_cleaning.ex4 import *\n",
    "print(\"Setup Complete\")"
   ]
  },
  {
   "cell_type": "markdown",
   "id": "26318549",
   "metadata": {
    "papermill": {
     "duration": 0.005412,
     "end_time": "2024-01-25T10:17:41.009944",
     "exception": false,
     "start_time": "2024-01-25T10:17:41.004532",
     "status": "completed"
    },
    "tags": []
   },
   "source": [
    "# Get our environment set up\n",
    "\n",
    "The first thing we'll need to do is load in the libraries we'll be using."
   ]
  },
  {
   "cell_type": "code",
   "execution_count": 2,
   "id": "26f0baa3",
   "metadata": {
    "execution": {
     "iopub.execute_input": "2024-01-25T10:17:41.022700Z",
     "iopub.status.busy": "2024-01-25T10:17:41.021450Z",
     "iopub.status.idle": "2024-01-25T10:17:41.027363Z",
     "shell.execute_reply": "2024-01-25T10:17:41.026298Z"
    },
    "papermill": {
     "duration": 0.015372,
     "end_time": "2024-01-25T10:17:41.030227",
     "exception": false,
     "start_time": "2024-01-25T10:17:41.014855",
     "status": "completed"
    },
    "tags": []
   },
   "outputs": [],
   "source": [
    "# modules we'll use\n",
    "import pandas as pd\n",
    "import numpy as np\n",
    "\n",
    "# helpful character encoding module\n",
    "import charset_normalizer\n",
    "\n",
    "# set seed for reproducibility\n",
    "np.random.seed(0)"
   ]
  },
  {
   "cell_type": "markdown",
   "id": "52230c98",
   "metadata": {
    "papermill": {
     "duration": 0.004811,
     "end_time": "2024-01-25T10:17:41.040291",
     "exception": false,
     "start_time": "2024-01-25T10:17:41.035480",
     "status": "completed"
    },
    "tags": []
   },
   "source": [
    "# 1) What are encodings?\n",
    "\n",
    "You're working with a dataset composed of bytes.  Run the code cell below to print a sample entry."
   ]
  },
  {
   "cell_type": "code",
   "execution_count": 3,
   "id": "6f2f3176",
   "metadata": {
    "execution": {
     "iopub.execute_input": "2024-01-25T10:17:41.052842Z",
     "iopub.status.busy": "2024-01-25T10:17:41.051933Z",
     "iopub.status.idle": "2024-01-25T10:17:41.057967Z",
     "shell.execute_reply": "2024-01-25T10:17:41.056946Z"
    },
    "papermill": {
     "duration": 0.015775,
     "end_time": "2024-01-25T10:17:41.061050",
     "exception": false,
     "start_time": "2024-01-25T10:17:41.045275",
     "status": "completed"
    },
    "tags": []
   },
   "outputs": [
    {
     "name": "stdout",
     "output_type": "stream",
     "text": [
      "b'\\xa7A\\xa6n'\n",
      "data type: <class 'bytes'>\n"
     ]
    }
   ],
   "source": [
    "sample_entry = b'\\xa7A\\xa6n'\n",
    "print(sample_entry)\n",
    "print('data type:', type(sample_entry))"
   ]
  },
  {
   "cell_type": "markdown",
   "id": "c57937f2",
   "metadata": {
    "papermill": {
     "duration": 0.004748,
     "end_time": "2024-01-25T10:17:41.070974",
     "exception": false,
     "start_time": "2024-01-25T10:17:41.066226",
     "status": "completed"
    },
    "tags": []
   },
   "source": [
    "You notice that it doesn't use the standard UTF-8 encoding. \n",
    "\n",
    "Use the next code cell to create a variable `new_entry` that changes the encoding from `\"big5-tw\"` to `\"utf-8\"`.  `new_entry` should have the bytes datatype."
   ]
  },
  {
   "cell_type": "code",
   "execution_count": 4,
   "id": "46a14ad6",
   "metadata": {
    "execution": {
     "iopub.execute_input": "2024-01-25T10:17:41.083154Z",
     "iopub.status.busy": "2024-01-25T10:17:41.082695Z",
     "iopub.status.idle": "2024-01-25T10:17:41.092412Z",
     "shell.execute_reply": "2024-01-25T10:17:41.091319Z"
    },
    "papermill": {
     "duration": 0.018547,
     "end_time": "2024-01-25T10:17:41.094485",
     "exception": false,
     "start_time": "2024-01-25T10:17:41.075938",
     "status": "completed"
    },
    "tags": []
   },
   "outputs": [
    {
     "data": {
      "application/javascript": [
       "parent.postMessage({\"jupyterEvent\": \"custom.exercise_interaction\", \"data\": {\"outcomeType\": 1, \"valueTowardsCompletion\": 0.3333333333333333, \"interactionType\": 1, \"questionType\": 1, \"questionId\": \"1_EncodingsIntro\", \"learnToolsVersion\": \"0.3.4\", \"failureMessage\": \"\", \"exceptionClass\": \"\", \"trace\": \"\"}}, \"*\")"
      ],
      "text/plain": [
       "<IPython.core.display.Javascript object>"
      ]
     },
     "metadata": {},
     "output_type": "display_data"
    },
    {
     "data": {
      "text/markdown": [
       "<span style=\"color:#33cc33\">Correct</span>"
      ],
      "text/plain": [
       "Correct"
      ]
     },
     "metadata": {},
     "output_type": "display_data"
    }
   ],
   "source": [
    "before = sample_entry.decode(\"big5-tw\")\n",
    "new_entry = before.encode()\n",
    "# Check your answer\n",
    "q1.check()"
   ]
  },
  {
   "cell_type": "code",
   "execution_count": 5,
   "id": "8f93faaa",
   "metadata": {
    "execution": {
     "iopub.execute_input": "2024-01-25T10:17:41.107137Z",
     "iopub.status.busy": "2024-01-25T10:17:41.106635Z",
     "iopub.status.idle": "2024-01-25T10:17:41.112190Z",
     "shell.execute_reply": "2024-01-25T10:17:41.110679Z"
    },
    "papermill": {
     "duration": 0.015149,
     "end_time": "2024-01-25T10:17:41.114831",
     "exception": false,
     "start_time": "2024-01-25T10:17:41.099682",
     "status": "completed"
    },
    "tags": []
   },
   "outputs": [],
   "source": [
    "# Lines below will give you a hint or solution code\n",
    "#q1.hint()\n",
    "#q1.solution()"
   ]
  },
  {
   "cell_type": "markdown",
   "id": "4c2c9189",
   "metadata": {
    "papermill": {
     "duration": 0.004955,
     "end_time": "2024-01-25T10:17:41.125377",
     "exception": false,
     "start_time": "2024-01-25T10:17:41.120422",
     "status": "completed"
    },
    "tags": []
   },
   "source": [
    "# 2) Reading in files with encoding problems\n",
    "\n",
    "Use the code cell below to read in this file at path `\"../input/fatal-police-shootings-in-the-us/PoliceKillingsUS.csv\"`.  \n",
    "\n",
    "Figure out what the correct encoding should be and read in the file to a DataFrame `police_killings`."
   ]
  },
  {
   "cell_type": "code",
   "execution_count": 6,
   "id": "25646a50",
   "metadata": {
    "execution": {
     "iopub.execute_input": "2024-01-25T10:17:41.138130Z",
     "iopub.status.busy": "2024-01-25T10:17:41.137628Z",
     "iopub.status.idle": "2024-01-25T10:17:41.165669Z",
     "shell.execute_reply": "2024-01-25T10:17:41.164550Z"
    },
    "papermill": {
     "duration": 0.037176,
     "end_time": "2024-01-25T10:17:41.167853",
     "exception": false,
     "start_time": "2024-01-25T10:17:41.130677",
     "status": "completed"
    },
    "tags": []
   },
   "outputs": [
    {
     "data": {
      "application/javascript": [
       "parent.postMessage({\"jupyterEvent\": \"custom.exercise_interaction\", \"data\": {\"outcomeType\": 1, \"valueTowardsCompletion\": 0.3333333333333333, \"interactionType\": 1, \"questionType\": 1, \"questionId\": \"2_ReadIn\", \"learnToolsVersion\": \"0.3.4\", \"failureMessage\": \"\", \"exceptionClass\": \"\", \"trace\": \"\"}}, \"*\")"
      ],
      "text/plain": [
       "<IPython.core.display.Javascript object>"
      ]
     },
     "metadata": {},
     "output_type": "display_data"
    },
    {
     "data": {
      "text/markdown": [
       "<span style=\"color:#33cc33\">Correct</span>"
      ],
      "text/plain": [
       "Correct"
      ]
     },
     "metadata": {},
     "output_type": "display_data"
    }
   ],
   "source": [
    "# TODO: Load in the DataFrame correctly.\n",
    "police_killings = pd.read_csv(\"../input/fatal-police-shootings-in-the-us/PoliceKillingsUS.csv\",encoding='Windows-1252')\n",
    "\n",
    "# Check your answer\n",
    "q2.check()"
   ]
  },
  {
   "cell_type": "markdown",
   "id": "ecc5789f",
   "metadata": {
    "papermill": {
     "duration": 0.005138,
     "end_time": "2024-01-25T10:17:41.178539",
     "exception": false,
     "start_time": "2024-01-25T10:17:41.173401",
     "status": "completed"
    },
    "tags": []
   },
   "source": [
    "Feel free to use any additional code cells for supplemental work.  To get credit for finishing this question, you'll need to run `q2.check()` and get a result of **Correct**."
   ]
  },
  {
   "cell_type": "code",
   "execution_count": 7,
   "id": "eb7df01b",
   "metadata": {
    "execution": {
     "iopub.execute_input": "2024-01-25T10:17:41.191937Z",
     "iopub.status.busy": "2024-01-25T10:17:41.191439Z",
     "iopub.status.idle": "2024-01-25T10:17:41.196760Z",
     "shell.execute_reply": "2024-01-25T10:17:41.195504Z"
    },
    "papermill": {
     "duration": 0.015125,
     "end_time": "2024-01-25T10:17:41.199238",
     "exception": false,
     "start_time": "2024-01-25T10:17:41.184113",
     "status": "completed"
    },
    "tags": []
   },
   "outputs": [],
   "source": [
    "# (Optional) Use this code cell for any additional work."
   ]
  },
  {
   "cell_type": "code",
   "execution_count": 8,
   "id": "045d9a49",
   "metadata": {
    "execution": {
     "iopub.execute_input": "2024-01-25T10:17:41.212592Z",
     "iopub.status.busy": "2024-01-25T10:17:41.212167Z",
     "iopub.status.idle": "2024-01-25T10:17:41.216460Z",
     "shell.execute_reply": "2024-01-25T10:17:41.215416Z"
    },
    "papermill": {
     "duration": 0.013715,
     "end_time": "2024-01-25T10:17:41.218552",
     "exception": false,
     "start_time": "2024-01-25T10:17:41.204837",
     "status": "completed"
    },
    "tags": []
   },
   "outputs": [],
   "source": [
    "# Lines below will give you a hint or solution code\n",
    "#q2.hint()\n",
    "#q2.solution()"
   ]
  },
  {
   "cell_type": "markdown",
   "id": "cc8b787f",
   "metadata": {
    "papermill": {
     "duration": 0.005123,
     "end_time": "2024-01-25T10:17:41.229487",
     "exception": false,
     "start_time": "2024-01-25T10:17:41.224364",
     "status": "completed"
    },
    "tags": []
   },
   "source": [
    "# 3) Saving your files with UTF-8 encoding\n",
    "\n",
    "Save a version of the police killings dataset to CSV with UTF-8 encoding.  Your answer will be marked correct after saving this file.  \n",
    "\n",
    "Note: When using the `to_csv()` method, supply only the name of the file (e.g., `\"my_file.csv\"`).  This saves the file at the filepath `\"/kaggle/working/my_file.csv\"`."
   ]
  },
  {
   "cell_type": "code",
   "execution_count": 9,
   "id": "d71cb99c",
   "metadata": {
    "execution": {
     "iopub.execute_input": "2024-01-25T10:17:41.243008Z",
     "iopub.status.busy": "2024-01-25T10:17:41.242364Z",
     "iopub.status.idle": "2024-01-25T10:17:41.288347Z",
     "shell.execute_reply": "2024-01-25T10:17:41.287169Z"
    },
    "papermill": {
     "duration": 0.055765,
     "end_time": "2024-01-25T10:17:41.290648",
     "exception": false,
     "start_time": "2024-01-25T10:17:41.234883",
     "status": "completed"
    },
    "tags": []
   },
   "outputs": [
    {
     "data": {
      "application/javascript": [
       "parent.postMessage({\"jupyterEvent\": \"custom.exercise_interaction\", \"data\": {\"outcomeType\": 1, \"valueTowardsCompletion\": 0.3333333333333333, \"interactionType\": 1, \"questionType\": 2, \"questionId\": \"3_SaveCSV\", \"learnToolsVersion\": \"0.3.4\", \"failureMessage\": \"\", \"exceptionClass\": \"\", \"trace\": \"\"}}, \"*\")"
      ],
      "text/plain": [
       "<IPython.core.display.Javascript object>"
      ]
     },
     "metadata": {},
     "output_type": "display_data"
    },
    {
     "data": {
      "text/markdown": [
       "<span style=\"color:#33cc33\">Correct</span>"
      ],
      "text/plain": [
       "Correct"
      ]
     },
     "metadata": {},
     "output_type": "display_data"
    }
   ],
   "source": [
    "# TODO: Save the police killings dataset to CSV\n",
    "police_killings.to_csv(\"/kaggle/working/my_file-utf8.csv\")\n",
    "\n",
    "# Check your answer\n",
    "q3.check()"
   ]
  },
  {
   "cell_type": "code",
   "execution_count": 10,
   "id": "4d810f21",
   "metadata": {
    "execution": {
     "iopub.execute_input": "2024-01-25T10:17:41.305172Z",
     "iopub.status.busy": "2024-01-25T10:17:41.303938Z",
     "iopub.status.idle": "2024-01-25T10:17:41.308809Z",
     "shell.execute_reply": "2024-01-25T10:17:41.307633Z"
    },
    "papermill": {
     "duration": 0.014709,
     "end_time": "2024-01-25T10:17:41.311141",
     "exception": false,
     "start_time": "2024-01-25T10:17:41.296432",
     "status": "completed"
    },
    "tags": []
   },
   "outputs": [],
   "source": [
    "# Lines below will give you a hint or solution code\n",
    "#q3.hint()\n",
    "#q3.solution()"
   ]
  },
  {
   "cell_type": "markdown",
   "id": "5f531339",
   "metadata": {
    "papermill": {
     "duration": 0.005363,
     "end_time": "2024-01-25T10:17:41.322295",
     "exception": false,
     "start_time": "2024-01-25T10:17:41.316932",
     "status": "completed"
    },
    "tags": []
   },
   "source": [
    "# (Optional) More practice\n",
    "\n",
    "Check out [this dataset of files in different character encodings](https://www.kaggle.com/rtatman/character-encoding-examples). Can you read in all the files with their original encodings and them save them out as UTF-8 files?\n",
    "\n",
    "If you have a file that's in UTF-8 but has just a couple of weird-looking characters in it, you can try out the [ftfy module](https://ftfy.readthedocs.io/en/latest/#) and see if it helps. \n",
    "\n",
    "# Keep going\n",
    "\n",
    "In the final lesson, learn how to [**clean up inconsistent text entries**](https://www.kaggle.com/alexisbcook/inconsistent-data-entry) in your dataset."
   ]
  },
  {
   "cell_type": "markdown",
   "id": "bfa677b3",
   "metadata": {
    "papermill": {
     "duration": 0.00536,
     "end_time": "2024-01-25T10:17:41.333444",
     "exception": false,
     "start_time": "2024-01-25T10:17:41.328084",
     "status": "completed"
    },
    "tags": []
   },
   "source": [
    "---\n",
    "\n",
    "\n",
    "\n",
    "\n",
    "*Have questions or comments? Visit the [course discussion forum](https://www.kaggle.com/learn/data-cleaning/discussion) to chat with other learners.*"
   ]
  }
 ],
 "metadata": {
  "kaggle": {
   "accelerator": "none",
   "dataSources": [
    {
     "datasetId": 2647,
     "sourceId": 4395,
     "sourceType": "datasetVersion"
    }
   ],
   "isGpuEnabled": false,
   "isInternetEnabled": false,
   "language": "python",
   "sourceType": "notebook"
  },
  "kernelspec": {
   "display_name": "Python 3",
   "language": "python",
   "name": "python3"
  },
  "language_info": {
   "codemirror_mode": {
    "name": "ipython",
    "version": 3
   },
   "file_extension": ".py",
   "mimetype": "text/x-python",
   "name": "python",
   "nbconvert_exporter": "python",
   "pygments_lexer": "ipython3",
   "version": "3.10.12"
  },
  "papermill": {
   "default_parameters": {},
   "duration": 5.070436,
   "end_time": "2024-01-25T10:17:42.061663",
   "environment_variables": {},
   "exception": null,
   "input_path": "__notebook__.ipynb",
   "output_path": "__notebook__.ipynb",
   "parameters": {},
   "start_time": "2024-01-25T10:17:36.991227",
   "version": "2.4.0"
  }
 },
 "nbformat": 4,
 "nbformat_minor": 5
}
